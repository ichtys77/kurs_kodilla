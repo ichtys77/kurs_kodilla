{
 "cells": [
  {
   "cell_type": "code",
   "id": "initial_id",
   "metadata": {
    "collapsed": true,
    "ExecuteTime": {
     "end_time": "2025-03-14T12:53:36.476272Z",
     "start_time": "2025-03-14T12:53:35.308134Z"
    }
   },
   "source": [
    "import pandas as pd\n",
    "import matplotlib.pyplot as plt\n",
    "\n",
    "# Załadowanie danych\n",
    "movies_url = \"https://uploads.kodilla.com/bootcamp/pro-data-visualization/files/tmdb_movies.csv\"\n",
    "genres_url = \"https://uploads.kodilla.com/bootcamp/pro-data-visualization/files/tmdb_genres.csv\"\n",
    "movies_df = pd.read_csv(movies_url)\n",
    "genres_df = pd.read_csv(genres_url)\n",
    "\n",
    "# Zmiana typów danych w źródłowych df\n",
    "movies_df['release_date'] = pd.to_datetime(movies_df['release_date'])\n",
    "\n",
    "# Dodatkowe kolumny w df i konieczne zmiany typów danych\n",
    "movies_df['release_year'] = movies_df['release_date'].dt.year\n",
    "movies_df['release_year'] = movies_df['release_year'].fillna(0).astype(int)\n",
    "\n",
    "# Zmiany nazw kolumn\n",
    "genres_df = genres_df.rename(columns={genres_df.columns[0]: 'genre_id'})\n",
    "\n",
    "# Wyłączenie wyświetlania notacji naukowej\n",
    "pd.options.display.float_format = '{:.2f}'.format"
   ],
   "outputs": [],
   "execution_count": 111
  },
  {
   "metadata": {},
   "cell_type": "markdown",
   "source": "1. Zwróć listę 10 najwyżej ocenianych filmów (vote_average), których liczba głosów (vote_count) jest większa od 3. kwartyla rozkładu liczby głosów.",
   "id": "f8dc09b828873294"
  },
  {
   "metadata": {
    "ExecuteTime": {
     "end_time": "2025-03-14T12:53:49.930387Z",
     "start_time": "2025-03-14T12:53:49.889788Z"
    }
   },
   "cell_type": "code",
   "source": [
    "# Obliczenie 3. kwartyla rozkładu liczby głosów\n",
    "third_quartile = movies_df['vote_count'].quantile(0.75)\n",
    "\n",
    "# Filtrowanie filmów, które mają liczbę głosów większą od 3. kwartyla\n",
    "filtered_movies_df = movies_df[movies_df['vote_count'] > third_quartile]\n",
    "\n",
    "# Sortowanie filmów według średniej oceny i wybranie 10 najlepszych\n",
    "top_rated_movies = filtered_movies_df.nlargest(10, 'vote_average').reset_index()\n",
    "\n",
    "# Wyświetlenie wyników\n",
    "print(top_rated_movies[['title', 'vote_average', 'vote_count']])"
   ],
   "id": "3cfa558fb0191e56",
   "outputs": [
    {
     "name": "stdout",
     "output_type": "stream",
     "text": [
      "                      title  vote_average  vote_count\n",
      "0  The Shawshank Redemption          8.50        8205\n",
      "1             The Godfather          8.40        5893\n",
      "2                Fight Club          8.30        9413\n",
      "3          Schindler's List          8.30        4329\n",
      "4             Spirited Away          8.30        3840\n",
      "5    The Godfather: Part II          8.30        3338\n",
      "6              Pulp Fiction          8.30        8428\n",
      "7                  Whiplash          8.30        4254\n",
      "8           The Dark Knight          8.20       12002\n",
      "9            The Green Mile          8.20        4048\n"
     ]
    }
   ],
   "execution_count": 115
  },
  {
   "metadata": {},
   "cell_type": "markdown",
   "source": "2. Pogrupuj tabelę w taki sposób, aby otrzymać średni przychód (revenue) oraz średni budżet (budget) w danym roku dla filmów opublikowanych od 2010 (włącznie) do 2016 roku (włącznie). Następnie na tej podstawie stwórz wykres, w którym średnie przychody są wykresem kolumnowym, a średni budżet wykresem liniowym na tych samych osiach. Sformatuj odpowiednio oś X oraz oś Y. Dodaj tytuł wykresu, oraz legendę, która znajduje się w prawym górnym rogu płótna, lecz poza obszarem osi.",
   "id": "25a0afdd925b4b9e"
  },
  {
   "metadata": {
    "ExecuteTime": {
     "end_time": "2025-03-14T12:53:59.394902Z",
     "start_time": "2025-03-14T12:53:59.354370Z"
    }
   },
   "cell_type": "code",
   "source": [
    "# Filtrowanie filmów opublikowanych od 2010 do 2016 roku\n",
    "movies_filtered_years = movies_df[(movies_df['release_year'] >= 2010) & (movies_df['release_year'] <= 2016)]\n",
    "\n",
    "# Grupowanie danych i obliczanie średniego przychodu oraz średniego budżetu\n",
    "grouped_movies = movies_filtered_years.groupby('release_year').agg({\n",
    "    'revenue': 'mean',\n",
    "    'budget': 'mean'\n",
    "}).reset_index()\n",
    "\n",
    "# Wyświetlenie wyników\n",
    "print(grouped_movies)"
   ],
   "id": "321c35ff3daed3c5",
   "outputs": [
    {
     "name": "stdout",
     "output_type": "stream",
     "text": [
      "   release_year      revenue      budget\n",
      "0          2010  90438110.08 34495410.94\n",
      "1          2011  92004130.76 34772320.34\n",
      "2          2012 116065914.64 34922031.99\n",
      "3          2013 101348455.82 35523293.65\n",
      "4          2014 101346599.11 30959887.86\n",
      "5          2015 105439926.95 31132163.74\n",
      "6          2016 139049586.04 45703269.23\n"
     ]
    }
   ],
   "execution_count": 116
  },
  {
   "metadata": {
    "ExecuteTime": {
     "end_time": "2025-03-14T12:54:03.321375Z",
     "start_time": "2025-03-14T12:54:02.884424Z"
    }
   },
   "cell_type": "code",
   "source": [
    "# Funkcja pomocnicza dla poprawnego wyświetlania wartości na osi\n",
    "def million(x, pos):\n",
    "    return 'USD {:2.1f}M'.format(x * 1e-6)\n",
    "\n",
    "formatter = plt.FuncFormatter(million)\n",
    "\n",
    "# Tworzenie wykresu\n",
    "fig, ax1 = plt.subplots()\n",
    "\n",
    "# Wykres kolumnowy dla średnich przychodów\n",
    "ax1.bar(grouped_movies['release_year'], grouped_movies['revenue'], color='b', label='Średni Przychód')\n",
    "ax1.set_xlabel('Rok')\n",
    "ax1.set_ylabel('Średni Przychód', color='b')\n",
    "ax1.tick_params(axis='y', labelcolor='b')\n",
    "\n",
    "# Dodanie tytułu wykresu\n",
    "plt.title('Średni Przychód i Budżet Filmów (2010-2016)')\n",
    "\n",
    "# Oś X formatowanie\n",
    "ax1.set_xticks(grouped_movies['release_year'])\n",
    "ax1.set_xticklabels(grouped_movies['release_year'], rotation=45)\n",
    "\n",
    "# Oś Y formatowanie\n",
    "ax1.yaxis.set_major_formatter(formatter)\n",
    "# ax1.yaxis.grid(True)\n",
    "\n",
    "# Tworzenie drugiej osi dla średnich budżetów\n",
    "ax2 = ax1.twinx()\n",
    "ax2.plot(grouped_movies['release_year'], grouped_movies['budget'], color='r', marker='o', label='Średni Budżet')\n",
    "ax2.set_ylabel('Średni Budżet', color='r')\n",
    "ax2.tick_params(axis='y', labelcolor='r')\n",
    "\n",
    "ax2.yaxis.set_major_formatter(formatter)\n",
    "\n",
    "# Dodanie legendy poza obszarem osi\n",
    "fig.legend(loc=(1.1, 0.0), bbox_to_anchor=(1, 1), bbox_transform=ax1.transAxes)\n",
    "\n",
    "# Wyświetlenie wykresu\n",
    "plt.show()\n"
   ],
   "id": "2b44eebc45bd1d08",
   "outputs": [
    {
     "data": {
      "text/plain": [
       "<Figure size 640x480 with 2 Axes>"
      ],
      "image/png": "[encoded data removed]"
     },
     "metadata": {},
     "output_type": "display_data"
    }
   ],
   "execution_count": 117
  },
  {
   "metadata": {},
   "cell_type": "markdown",
   "source": "3. Baza filmów zawiera kolumnę z id gatunku (genre_id). Na tej podstawie połącz ze sobą bazę filmów z bazą gatunków, tak aby w bazie filmów można było odczytać nazwę gatunku filmu.",
   "id": "3438d54e6a09fee"
  },
  {
   "metadata": {
    "ExecuteTime": {
     "end_time": "2025-03-14T12:15:34.330312Z",
     "start_time": "2025-03-14T12:15:34.288956Z"
    }
   },
   "cell_type": "code",
   "source": [
    "# Łączenie baz filmów i gatunków na podstawie kolumny genre_id\n",
    "merged_df = pd.merge(movies_df, genres_df, left_on='genre_id', right_on='genre_id', how='left')\n",
    "\n",
    "# Wyświetlenie wyników\n",
    "merged_df.head()\n"
   ],
   "id": "8eb543fb4aaef43d",
   "outputs": [
    {
     "data": {
      "text/plain": [
       "   Unnamed: 0     budget                                      homepage  \\\n",
       "0           0  237000000                   http://www.avatarmovie.com/   \n",
       "1           1  300000000  http://disney.go.com/disneypictures/pirates/   \n",
       "2           2  245000000   http://www.sonypictures.com/movies/spectre/   \n",
       "3           3  250000000            http://www.thedarkknightrises.com/   \n",
       "4           4  260000000          http://movies.disney.com/john-carter   \n",
       "\n",
       "       id original_language                            original_title  \\\n",
       "0   19995                en                                    Avatar   \n",
       "1     285                en  Pirates of the Caribbean: At World's End   \n",
       "2  206647                en                                   Spectre   \n",
       "3   49026                en                     The Dark Knight Rises   \n",
       "4   49529                en                               John Carter   \n",
       "\n",
       "                                            overview  popularity release_date  \\\n",
       "0  In the 22nd century, a paraplegic Marine is di...      150.44   2009-12-10   \n",
       "1  Captain Barbossa, long believed to be dead, ha...      139.08   2007-05-19   \n",
       "2  A cryptic message from Bond’s past sends him o...      107.38   2015-10-26   \n",
       "3  Following the death of District Attorney Harve...      112.31   2012-07-16   \n",
       "4  John Carter is a war-weary, former military ca...       43.93   2012-03-07   \n",
       "\n",
       "      revenue  runtime    status  \\\n",
       "0  2787965087   162.00  Released   \n",
       "1   961000000   169.00  Released   \n",
       "2   880674609   148.00  Released   \n",
       "3  1084939099   165.00  Released   \n",
       "4   284139100   132.00  Released   \n",
       "\n",
       "                                          tagline  \\\n",
       "0                     Enter the World of Pandora.   \n",
       "1  At the end of the world, the adventure begins.   \n",
       "2                           A Plan No One Escapes   \n",
       "3                                 The Legend Ends   \n",
       "4            Lost in our world, found in another.   \n",
       "\n",
       "                                      title  vote_average  vote_count  \\\n",
       "0                                    Avatar          7.20       11800   \n",
       "1  Pirates of the Caribbean: At World's End          6.90        4500   \n",
       "2                                   Spectre          6.30        4466   \n",
       "3                     The Dark Knight Rises          7.60        9106   \n",
       "4                               John Carter          6.10        2124   \n",
       "\n",
       "   genre_id  release_year     genres  \n",
       "0     28.00       2009.00     Action  \n",
       "1     12.00       2007.00  Adventure  \n",
       "2     28.00       2015.00     Action  \n",
       "3     28.00       2012.00     Action  \n",
       "4     28.00       2012.00     Action  "
      ],
      "text/html": [
       "<div>\n",
       "<style scoped>\n",
       "    .dataframe tbody tr th:only-of-type {\n",
       "        vertical-align: middle;\n",
       "    }\n",
       "\n",
       "    .dataframe tbody tr th {\n",
       "        vertical-align: top;\n",
       "    }\n",
       "\n",
       "    .dataframe thead th {\n",
       "        text-align: right;\n",
       "    }\n",
       "</style>\n",
       "<table border=\"1\" class=\"dataframe\">\n",
       "  <thead>\n",
       "    <tr style=\"text-align: right;\">\n",
       "      <th></th>\n",
       "      <th>Unnamed: 0</th>\n",
       "      <th>budget</th>\n",
       "      <th>homepage</th>\n",
       "      <th>id</th>\n",
       "      <th>original_language</th>\n",
       "      <th>original_title</th>\n",
       "      <th>overview</th>\n",
       "      <th>popularity</th>\n",
       "      <th>release_date</th>\n",
       "      <th>revenue</th>\n",
       "      <th>runtime</th>\n",
       "      <th>status</th>\n",
       "      <th>tagline</th>\n",
       "      <th>title</th>\n",
       "      <th>vote_average</th>\n",
       "      <th>vote_count</th>\n",
       "      <th>genre_id</th>\n",
       "      <th>release_year</th>\n",
       "      <th>genres</th>\n",
       "    </tr>\n",
       "  </thead>\n",
       "  <tbody>\n",
       "    <tr>\n",
       "      <th>0</th>\n",
       "      <td>0</td>\n",
       "      <td>237000000</td>\n",
       "      <td>http://www.avatarmovie.com/</td>\n",
       "      <td>19995</td>\n",
       "      <td>en</td>\n",
       "      <td>Avatar</td>\n",
       "      <td>In the 22nd century, a paraplegic Marine is di...</td>\n",
       "      <td>150.44</td>\n",
       "      <td>2009-12-10</td>\n",
       "      <td>2787965087</td>\n",
       "      <td>162.00</td>\n",
       "      <td>Released</td>\n",
       "      <td>Enter the World of Pandora.</td>\n",
       "      <td>Avatar</td>\n",
       "      <td>7.20</td>\n",
       "      <td>11800</td>\n",
       "      <td>28.00</td>\n",
       "      <td>2009.00</td>\n",
       "      <td>Action</td>\n",
       "    </tr>\n",
       "    <tr>\n",
       "      <th>1</th>\n",
       "      <td>1</td>\n",
       "      <td>300000000</td>\n",
       "      <td>http://disney.go.com/disneypictures/pirates/</td>\n",
       "      <td>285</td>\n",
       "      <td>en</td>\n",
       "      <td>Pirates of the Caribbean: At World's End</td>\n",
       "      <td>Captain Barbossa, long believed to be dead, ha...</td>\n",
       "      <td>139.08</td>\n",
       "      <td>2007-05-19</td>\n",
       "      <td>961000000</td>\n",
       "      <td>169.00</td>\n",
       "      <td>Released</td>\n",
       "      <td>At the end of the world, the adventure begins.</td>\n",
       "      <td>Pirates of the Caribbean: At World's End</td>\n",
       "      <td>6.90</td>\n",
       "      <td>4500</td>\n",
       "      <td>12.00</td>\n",
       "      <td>2007.00</td>\n",
       "      <td>Adventure</td>\n",
       "    </tr>\n",
       "    <tr>\n",
       "      <th>2</th>\n",
       "      <td>2</td>\n",
       "      <td>245000000</td>\n",
       "      <td>http://www.sonypictures.com/movies/spectre/</td>\n",
       "      <td>206647</td>\n",
       "      <td>en</td>\n",
       "      <td>Spectre</td>\n",
       "      <td>A cryptic message from Bond’s past sends him o...</td>\n",
       "      <td>107.38</td>\n",
       "      <td>2015-10-26</td>\n",
       "      <td>880674609</td>\n",
       "      <td>148.00</td>\n",
       "      <td>Released</td>\n",
       "      <td>A Plan No One Escapes</td>\n",
       "      <td>Spectre</td>\n",
       "      <td>6.30</td>\n",
       "      <td>4466</td>\n",
       "      <td>28.00</td>\n",
       "      <td>2015.00</td>\n",
       "      <td>Action</td>\n",
       "    </tr>\n",
       "    <tr>\n",
       "      <th>3</th>\n",
       "      <td>3</td>\n",
       "      <td>250000000</td>\n",
       "      <td>http://www.thedarkknightrises.com/</td>\n",
       "      <td>49026</td>\n",
       "      <td>en</td>\n",
       "      <td>The Dark Knight Rises</td>\n",
       "      <td>Following the death of District Attorney Harve...</td>\n",
       "      <td>112.31</td>\n",
       "      <td>2012-07-16</td>\n",
       "      <td>1084939099</td>\n",
       "      <td>165.00</td>\n",
       "      <td>Released</td>\n",
       "      <td>The Legend Ends</td>\n",
       "      <td>The Dark Knight Rises</td>\n",
       "      <td>7.60</td>\n",
       "      <td>9106</td>\n",
       "      <td>28.00</td>\n",
       "      <td>2012.00</td>\n",
       "      <td>Action</td>\n",
       "    </tr>\n",
       "    <tr>\n",
       "      <th>4</th>\n",
       "      <td>4</td>\n",
       "      <td>260000000</td>\n",
       "      <td>http://movies.disney.com/john-carter</td>\n",
       "      <td>49529</td>\n",
       "      <td>en</td>\n",
       "      <td>John Carter</td>\n",
       "      <td>John Carter is a war-weary, former military ca...</td>\n",
       "      <td>43.93</td>\n",
       "      <td>2012-03-07</td>\n",
       "      <td>284139100</td>\n",
       "      <td>132.00</td>\n",
       "      <td>Released</td>\n",
       "      <td>Lost in our world, found in another.</td>\n",
       "      <td>John Carter</td>\n",
       "      <td>6.10</td>\n",
       "      <td>2124</td>\n",
       "      <td>28.00</td>\n",
       "      <td>2012.00</td>\n",
       "      <td>Action</td>\n",
       "    </tr>\n",
       "  </tbody>\n",
       "</table>\n",
       "</div>"
      ]
     },
     "execution_count": 81,
     "metadata": {},
     "output_type": "execute_result"
    }
   ],
   "execution_count": 81
  },
  {
   "metadata": {},
   "cell_type": "markdown",
   "source": "4. Jaki gatunek filmu z bazy pojawia się w niej najczęściej? Ile filmów tego gatunku znajduje się w bazie?",
   "id": "7cf3557e836d0e10"
  },
  {
   "metadata": {
    "ExecuteTime": {
     "end_time": "2025-03-14T12:19:09.627981Z",
     "start_time": "2025-03-14T12:19:09.607820Z"
    }
   },
   "cell_type": "code",
   "source": [
    "most_common_genre = merged_df['genres'].value_counts().idxmax()\n",
    "number_of_movies = merged_df['genres'].value_counts().max()\n",
    "\n",
    "print(f\"Najczęściej występujący gatunek: {most_common_genre}\")\n",
    "print(f\"Liczba filmów tego gatunku: {number_of_movies}\")"
   ],
   "id": "7889123cd0f02214",
   "outputs": [
    {
     "name": "stdout",
     "output_type": "stream",
     "text": [
      "Najczęściej występujący gatunek: Drama\n",
      "Liczba filmów tego gatunku: 1207\n"
     ]
    }
   ],
   "execution_count": 84
  },
  {
   "metadata": {},
   "cell_type": "markdown",
   "source": "5. Filmy, którego gatunku trwają średnio najdłużej (runtime)?",
   "id": "2d305e6d786e9a5d"
  },
  {
   "metadata": {
    "ExecuteTime": {
     "end_time": "2025-03-14T12:21:10.074623Z",
     "start_time": "2025-03-14T12:21:10.060731Z"
    }
   },
   "cell_type": "code",
   "source": [
    "# Grupowanie danych według gatunku i obliczanie średniej długości trwania filmu\n",
    "average_runtime_per_genre = merged_df.groupby('genres')['runtime'].mean()\n",
    "\n",
    "# Znalezienie gatunku o najdłuższym średnim czasie trwania filmu\n",
    "longest_avg_runtime_genre = average_runtime_per_genre.idxmax()\n",
    "longest_avg_runtime = average_runtime_per_genre.max()\n",
    "\n",
    "print(f\"Gatunek filmu, który trwa średnio najdłużej: {longest_avg_runtime_genre}\")\n",
    "print(f\"Średnia długość trwania filmów tego gatunku: {longest_avg_runtime} minut\")\n"
   ],
   "id": "3d5f8d4216e57408",
   "outputs": [
    {
     "name": "stdout",
     "output_type": "stream",
     "text": [
      "Gatunek filmu, który trwa średnio najdłużej: History\n",
      "Średnia długość trwania filmów tego gatunku: 133.96 minut\n"
     ]
    }
   ],
   "execution_count": 86
  },
  {
   "metadata": {},
   "cell_type": "markdown",
   "source": "6. Stwórz histogram czasu trwania filmów z gatunku, który cechuje się największym średnim czasem trwania.",
   "id": "a84fb68667fab2b9"
  },
  {
   "metadata": {
    "ExecuteTime": {
     "end_time": "2025-03-14T12:29:16.529119Z",
     "start_time": "2025-03-14T12:29:16.212731Z"
    }
   },
   "cell_type": "code",
   "source": [
    "# Filtrowanie filmów należących do gatunku o najdłuższym średnim czasie trwania\n",
    "longest_runtime_movies = merged_df[merged_df['genres'] == longest_avg_runtime_genre]\n",
    "\n",
    "# Tworzenie histogramu czasu trwania filmów dla tego gatunku\n",
    "plt.hist(longest_runtime_movies['runtime'].dropna(), bins=10, color='blue', edgecolor='black')\n",
    "plt.title(f'Histogram czasu trwania filmów - {longest_avg_runtime_genre}')\n",
    "plt.xlabel('Czas trwania (minuty)')\n",
    "plt.ylabel('Liczba filmów')\n",
    "plt.grid(True)\n",
    "plt.show()"
   ],
   "id": "e964eea872ad8eb4",
   "outputs": [
    {
     "data": {
      "text/plain": [
       "<Figure size 640x480 with 1 Axes>"
      ],
      "image/png": "[encoded data removed]"
     },
     "metadata": {},
     "output_type": "display_data"
    }
   ],
   "execution_count": 91
  },
  {
   "metadata": {},
   "cell_type": "code",
   "outputs": [],
   "execution_count": null,
   "source": "",
   "id": "d20198f4fbca590"
  }
 ],
 "metadata": {
  "kernelspec": {
   "display_name": "Python 3",
   "language": "python",
   "name": "python3"
  },
  "language_info": {
   "codemirror_mode": {
    "name": "ipython",
    "version": 2
   },
   "file_extension": ".py",
   "mimetype": "text/x-python",
   "name": "python",
   "nbconvert_exporter": "python",
   "pygments_lexer": "ipython2",
   "version": "2.7.6"
  }
 },
 "nbformat": 4,
 "nbformat_minor": 5
}
