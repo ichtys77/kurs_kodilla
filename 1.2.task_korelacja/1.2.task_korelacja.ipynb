{
 "cells": [
  {
   "cell_type": "code",
   "id": "initial_id",
   "metadata": {
    "collapsed": true,
    "ExecuteTime": {
     "end_time": "2025-03-06T20:40:00.966453Z",
     "start_time": "2025-03-06T20:40:00.960445Z"
    }
   },
   "source": [
    "import pandas as pd\n",
    "import math"
   ],
   "outputs": [],
   "execution_count": 19
  },
  {
   "metadata": {
    "ExecuteTime": {
     "end_time": "2025-03-06T20:46:41.583719Z",
     "start_time": "2025-03-06T20:46:41.570720Z"
    }
   },
   "cell_type": "code",
   "source": "df = pd.read_excel('./data/1.2.task_data.xlsx')",
   "id": "f0cdc4e916245624",
   "outputs": [],
   "execution_count": 34
  },
  {
   "metadata": {
    "ExecuteTime": {
     "end_time": "2025-03-06T20:46:44.052650Z",
     "start_time": "2025-03-06T20:46:44.043652Z"
    }
   },
   "cell_type": "code",
   "source": "df",
   "id": "20636f629d416e8f",
   "outputs": [
    {
     "data": {
      "text/plain": [
       "   Unnamed: 0  fertility_rate  life_expectancy_at_birth\n",
       "0          x1           1.300                  76.84878\n",
       "1          x2           1.950                  81.40732\n",
       "2          x3           2.466                  77.57895\n",
       "3          x4           1.600                  74.16341\n",
       "4          x5           2.952                  68.84907\n",
       "5          x6           1.801                  73.88595\n",
       "6          x7           1.340                  75.26829\n",
       "7          x8           1.340                  76.26098\n",
       "8          x9           1.630                  80.57244\n",
       "9         x10           2.326                  65.46259\n",
       "10        x11           2.436                  67.54820\n",
       "11        x12           6.563                  55.02451\n",
       "12        x13           1.283                  76.27990\n",
       "13        x14           1.430                  82.29024\n",
       "14        x15           1.988                  69.80695\n",
       "15        x16           1.610                  81.40112\n",
       "16        x17           1.921                  82.19756\n",
       "17        x18           2.400                  74.22683\n",
       "18        x19           1.495                  80.12888\n",
       "19        x20           4.705                  45.55095"
      ],
      "text/html": [
       "<div>\n",
       "<style scoped>\n",
       "    .dataframe tbody tr th:only-of-type {\n",
       "        vertical-align: middle;\n",
       "    }\n",
       "\n",
       "    .dataframe tbody tr th {\n",
       "        vertical-align: top;\n",
       "    }\n",
       "\n",
       "    .dataframe thead th {\n",
       "        text-align: right;\n",
       "    }\n",
       "</style>\n",
       "<table border=\"1\" class=\"dataframe\">\n",
       "  <thead>\n",
       "    <tr style=\"text-align: right;\">\n",
       "      <th></th>\n",
       "      <th>Unnamed: 0</th>\n",
       "      <th>fertility_rate</th>\n",
       "      <th>life_expectancy_at_birth</th>\n",
       "    </tr>\n",
       "  </thead>\n",
       "  <tbody>\n",
       "    <tr>\n",
       "      <th>0</th>\n",
       "      <td>x1</td>\n",
       "      <td>1.300</td>\n",
       "      <td>76.84878</td>\n",
       "    </tr>\n",
       "    <tr>\n",
       "      <th>1</th>\n",
       "      <td>x2</td>\n",
       "      <td>1.950</td>\n",
       "      <td>81.40732</td>\n",
       "    </tr>\n",
       "    <tr>\n",
       "      <th>2</th>\n",
       "      <td>x3</td>\n",
       "      <td>2.466</td>\n",
       "      <td>77.57895</td>\n",
       "    </tr>\n",
       "    <tr>\n",
       "      <th>3</th>\n",
       "      <td>x4</td>\n",
       "      <td>1.600</td>\n",
       "      <td>74.16341</td>\n",
       "    </tr>\n",
       "    <tr>\n",
       "      <th>4</th>\n",
       "      <td>x5</td>\n",
       "      <td>2.952</td>\n",
       "      <td>68.84907</td>\n",
       "    </tr>\n",
       "    <tr>\n",
       "      <th>5</th>\n",
       "      <td>x6</td>\n",
       "      <td>1.801</td>\n",
       "      <td>73.88595</td>\n",
       "    </tr>\n",
       "    <tr>\n",
       "      <th>6</th>\n",
       "      <td>x7</td>\n",
       "      <td>1.340</td>\n",
       "      <td>75.26829</td>\n",
       "    </tr>\n",
       "    <tr>\n",
       "      <th>7</th>\n",
       "      <td>x8</td>\n",
       "      <td>1.340</td>\n",
       "      <td>76.26098</td>\n",
       "    </tr>\n",
       "    <tr>\n",
       "      <th>8</th>\n",
       "      <td>x9</td>\n",
       "      <td>1.630</td>\n",
       "      <td>80.57244</td>\n",
       "    </tr>\n",
       "    <tr>\n",
       "      <th>9</th>\n",
       "      <td>x10</td>\n",
       "      <td>2.326</td>\n",
       "      <td>65.46259</td>\n",
       "    </tr>\n",
       "    <tr>\n",
       "      <th>10</th>\n",
       "      <td>x11</td>\n",
       "      <td>2.436</td>\n",
       "      <td>67.54820</td>\n",
       "    </tr>\n",
       "    <tr>\n",
       "      <th>11</th>\n",
       "      <td>x12</td>\n",
       "      <td>6.563</td>\n",
       "      <td>55.02451</td>\n",
       "    </tr>\n",
       "    <tr>\n",
       "      <th>12</th>\n",
       "      <td>x13</td>\n",
       "      <td>1.283</td>\n",
       "      <td>76.27990</td>\n",
       "    </tr>\n",
       "    <tr>\n",
       "      <th>13</th>\n",
       "      <td>x14</td>\n",
       "      <td>1.430</td>\n",
       "      <td>82.29024</td>\n",
       "    </tr>\n",
       "    <tr>\n",
       "      <th>14</th>\n",
       "      <td>x15</td>\n",
       "      <td>1.988</td>\n",
       "      <td>69.80695</td>\n",
       "    </tr>\n",
       "    <tr>\n",
       "      <th>15</th>\n",
       "      <td>x16</td>\n",
       "      <td>1.610</td>\n",
       "      <td>81.40112</td>\n",
       "    </tr>\n",
       "    <tr>\n",
       "      <th>16</th>\n",
       "      <td>x17</td>\n",
       "      <td>1.921</td>\n",
       "      <td>82.19756</td>\n",
       "    </tr>\n",
       "    <tr>\n",
       "      <th>17</th>\n",
       "      <td>x18</td>\n",
       "      <td>2.400</td>\n",
       "      <td>74.22683</td>\n",
       "    </tr>\n",
       "    <tr>\n",
       "      <th>18</th>\n",
       "      <td>x19</td>\n",
       "      <td>1.495</td>\n",
       "      <td>80.12888</td>\n",
       "    </tr>\n",
       "    <tr>\n",
       "      <th>19</th>\n",
       "      <td>x20</td>\n",
       "      <td>4.705</td>\n",
       "      <td>45.55095</td>\n",
       "    </tr>\n",
       "  </tbody>\n",
       "</table>\n",
       "</div>"
      ]
     },
     "execution_count": 35,
     "metadata": {},
     "output_type": "execute_result"
    }
   ],
   "execution_count": 35
  },
  {
   "metadata": {},
   "cell_type": "markdown",
   "source": "## średnia arytmetyczna",
   "id": "940de7731c2753b7"
  },
  {
   "metadata": {
    "ExecuteTime": {
     "end_time": "2025-03-06T20:35:41.914273Z",
     "start_time": "2025-03-06T20:35:41.900275Z"
    }
   },
   "cell_type": "code",
   "source": [
    "df_mean = (df['life_expectancy_at_birth']\n",
    " .mean()\n",
    " .round(2))\n",
    "\n",
    "df_mean"
   ],
   "id": "cf65554f7de3743f",
   "outputs": [
    {
     "data": {
      "text/plain": [
       "73.24"
      ]
     },
     "execution_count": 14,
     "metadata": {},
     "output_type": "execute_result"
    }
   ],
   "execution_count": 14
  },
  {
   "metadata": {},
   "cell_type": "markdown",
   "source": "## mediana\n",
   "id": "89efa8e0054302b2"
  },
  {
   "metadata": {
    "ExecuteTime": {
     "end_time": "2025-03-05T19:52:53.123953Z",
     "start_time": "2025-03-05T19:52:53.105441Z"
    }
   },
   "cell_type": "code",
   "source": [
    "(df['life_expectancy_at_birth']\n",
    " .median())"
   ],
   "id": "a4377328c5852a5e",
   "outputs": [
    {
     "data": {
      "text/plain": [
       "75.764635"
      ]
     },
     "execution_count": 34,
     "metadata": {},
     "output_type": "execute_result"
    }
   ],
   "execution_count": 34
  },
  {
   "metadata": {},
   "cell_type": "markdown",
   "source": [
    "## dominanta\n",
    "w zestawie danych dla zmiennej 'life_expectancy_at_birth' nie można wyznaczyć dominanty. wszystkie wartości są unikalne i występują w kolekcji danych tylko raz."
   ],
   "id": "97f32a426a8fb900"
  },
  {
   "metadata": {
    "ExecuteTime": {
     "end_time": "2025-03-05T19:46:33.038036Z",
     "start_time": "2025-03-05T19:46:33.027524Z"
    }
   },
   "cell_type": "code",
   "source": [
    "(df['life_expectancy_at_birth']\n",
    " .value_counts()\n",
    " .max())"
   ],
   "id": "932b9c3175c830a0",
   "outputs": [
    {
     "data": {
      "text/plain": [
       "1"
      ]
     },
     "execution_count": 22,
     "metadata": {},
     "output_type": "execute_result"
    }
   ],
   "execution_count": 22
  },
  {
   "metadata": {},
   "cell_type": "markdown",
   "source": [
    "## korelacja\n",
    "Między współczynnikiem dzietności i przewidywaną długością życia zachodzi bardzo wysoka korelacja ujemna (-0,82), czyli spadek współczynnika dzietności przekłada się na wzrost przewidywanej długości życia. To znane zjawisko społeczne. Wysoka dzietność występuje w krajach mniej rozwiniętych. Wraz z rozwojem cywilizacyjnym lepsza opieka medyczna pozwala wydłużać średnią wieku społeczeństwa."
   ],
   "id": "db2b2ca7efdddc63"
  },
  {
   "metadata": {
    "ExecuteTime": {
     "end_time": "2025-03-05T19:57:02.338455Z",
     "start_time": "2025-03-05T19:57:02.326454Z"
    }
   },
   "cell_type": "code",
   "source": "df.corr(numeric_only=True)",
   "id": "52df92bb8b6a65b2",
   "outputs": [
    {
     "data": {
      "text/plain": [
       "                          fertility_rate  life_expectancy_at_birth\n",
       "fertility_rate                  1.000000                 -0.820493\n",
       "life_expectancy_at_birth       -0.820493                  1.000000"
      ],
      "text/html": [
       "<div>\n",
       "<style scoped>\n",
       "    .dataframe tbody tr th:only-of-type {\n",
       "        vertical-align: middle;\n",
       "    }\n",
       "\n",
       "    .dataframe tbody tr th {\n",
       "        vertical-align: top;\n",
       "    }\n",
       "\n",
       "    .dataframe thead th {\n",
       "        text-align: right;\n",
       "    }\n",
       "</style>\n",
       "<table border=\"1\" class=\"dataframe\">\n",
       "  <thead>\n",
       "    <tr style=\"text-align: right;\">\n",
       "      <th></th>\n",
       "      <th>fertility_rate</th>\n",
       "      <th>life_expectancy_at_birth</th>\n",
       "    </tr>\n",
       "  </thead>\n",
       "  <tbody>\n",
       "    <tr>\n",
       "      <th>fertility_rate</th>\n",
       "      <td>1.000000</td>\n",
       "      <td>-0.820493</td>\n",
       "    </tr>\n",
       "    <tr>\n",
       "      <th>life_expectancy_at_birth</th>\n",
       "      <td>-0.820493</td>\n",
       "      <td>1.000000</td>\n",
       "    </tr>\n",
       "  </tbody>\n",
       "</table>\n",
       "</div>"
      ]
     },
     "execution_count": 37,
     "metadata": {},
     "output_type": "execute_result"
    }
   ],
   "execution_count": 37
  },
  {
   "metadata": {},
   "cell_type": "markdown",
   "source": [
    "## szacowana długość życia dla populacji przy poziomie ufności 95%\n",
    "Istnieje 95% szans, że przedział ufności [69.25, 77.22] zawiera rzeczywistą średnią oczekiwaną długość życia dla całej populacji.\n"
   ],
   "id": "4d4f353ff2f886da"
  },
  {
   "metadata": {
    "ExecuteTime": {
     "end_time": "2025-03-06T20:56:05.536946Z",
     "start_time": "2025-03-06T20:56:05.521457Z"
    }
   },
   "cell_type": "code",
   "source": [
    "stedv = 9.09\n",
    "p_value_rank = 1.96\n",
    "sample_count = 20"
   ],
   "id": "2fcea7129cf37ae0",
   "outputs": [],
   "execution_count": 43
  },
  {
   "metadata": {
    "ExecuteTime": {
     "end_time": "2025-03-06T20:56:06.900530Z",
     "start_time": "2025-03-06T20:56:06.888526Z"
    }
   },
   "cell_type": "code",
   "source": "df_mean+(p_value_rank*(stedv/(math.sqrt(sample_count))))",
   "id": "4267d214c112b9a5",
   "outputs": [
    {
     "data": {
      "text/plain": [
       "77.22386815143273"
      ]
     },
     "execution_count": 44,
     "metadata": {},
     "output_type": "execute_result"
    }
   ],
   "execution_count": 44
  },
  {
   "metadata": {
    "ExecuteTime": {
     "end_time": "2025-03-06T20:56:08.201973Z",
     "start_time": "2025-03-06T20:56:08.193963Z"
    }
   },
   "cell_type": "code",
   "source": "df_mean-(p_value_rank*(stedv/(math.sqrt(sample_count))))",
   "id": "c1559f71d1961df",
   "outputs": [
    {
     "data": {
      "text/plain": [
       "69.25613184856726"
      ]
     },
     "execution_count": 45,
     "metadata": {},
     "output_type": "execute_result"
    }
   ],
   "execution_count": 45
  }
 ],
 "metadata": {
  "kernelspec": {
   "display_name": "Python 3",
   "language": "python",
   "name": "python3"
  },
  "language_info": {
   "codemirror_mode": {
    "name": "ipython",
    "version": 2
   },
   "file_extension": ".py",
   "mimetype": "text/x-python",
   "name": "python",
   "nbconvert_exporter": "python",
   "pygments_lexer": "ipython2",
   "version": "2.7.6"
  }
 },
 "nbformat": 4,
 "nbformat_minor": 5
}
