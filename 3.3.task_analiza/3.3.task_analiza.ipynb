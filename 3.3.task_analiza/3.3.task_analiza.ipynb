{
 "cells": [
  {
   "cell_type": "code",
   "id": "initial_id",
   "metadata": {
    "collapsed": true,
    "ExecuteTime": {
     "end_time": "2025-03-19T19:32:33.923348Z",
     "start_time": "2025-03-19T19:32:33.909840Z"
    }
   },
   "source": [
    "import pandas as pd\n",
    "import numpy as np\n",
    "import matplotlib.pyplot as plt\n",
    "import seaborn as sns\n",
    "import datetime as dt\n",
    "from scipy.stats import chi2_contingency\n",
    "\n",
    "df = pd.read_csv('HRDataset.csv')"
   ],
   "outputs": [],
   "execution_count": 70
  },
  {
   "metadata": {
    "ExecuteTime": {
     "end_time": "2025-03-19T19:32:33.970403Z",
     "start_time": "2025-03-19T19:32:33.956376Z"
    }
   },
   "cell_type": "code",
   "source": [
    "df.drop(['LastPerformanceReview_Date', 'DaysLateLast30'], axis=1, inplace=True)\n",
    "df.dropna(thresh=2, inplace=True)\n",
    "df['DOB'] = pd.to_datetime(df['DOB'], format='%m/%d/%y')\n",
    "df['DateofTermination'] = pd.to_datetime(df['DateofTermination'], format='%m/%d/%y')\n",
    "df['DateofHire'] = pd.to_datetime(df['DateofHire'], format='%m/%d/%Y')"
   ],
   "id": "840893e3c3f2e1ff",
   "outputs": [],
   "execution_count": 71
  },
  {
   "metadata": {
    "ExecuteTime": {
     "end_time": "2025-03-19T19:32:33.985403Z",
     "start_time": "2025-03-19T19:32:33.973408Z"
    }
   },
   "cell_type": "code",
   "source": [
    "def count_seniority(row):\n",
    "    if pd.isnull(row['DateofTermination']):\n",
    "        end_date = dt.datetime(2019, 9, 27)\n",
    "    else:\n",
    "        end_date = row['DateofTermination']\n",
    "\n",
    "    return (end_date - row['DateofHire']) / np.timedelta64(1, 'Y')\n",
    "\n",
    "\n",
    "df['Seniority'] = df.apply(lambda row: count_seniority(row), axis=1)"
   ],
   "id": "5e07b8253971d2b",
   "outputs": [],
   "execution_count": 72
  },
  {
   "metadata": {
    "ExecuteTime": {
     "end_time": "2025-03-19T19:32:34.031927Z",
     "start_time": "2025-03-19T19:32:34.003414Z"
    }
   },
   "cell_type": "code",
   "source": "df.head()",
   "id": "f344d0559ef9f8c5",
   "outputs": [
    {
     "data": {
      "text/plain": [
       "          Employee_Name         EmpID  MarriedID  MaritalStatusID  GenderID  \\\n",
       "0            Brown, Mia  1.103024e+09        1.0              1.0       0.0   \n",
       "1  LaRotonda, William    1.106027e+09        0.0              2.0       1.0   \n",
       "2      Steans, Tyrone    1.302053e+09        0.0              0.0       1.0   \n",
       "3       Howard, Estelle  1.211051e+09        1.0              1.0       0.0   \n",
       "4           Singh, Nan   1.307060e+09        0.0              0.0       0.0   \n",
       "\n",
       "   EmpStatusID  DeptID  PerfScoreID  FromDiversityJobFairID  PayRate  ...  \\\n",
       "0          1.0     1.0          3.0                     1.0    28.50  ...   \n",
       "1          1.0     1.0          3.0                     0.0    23.00  ...   \n",
       "2          1.0     1.0          3.0                     0.0    29.00  ...   \n",
       "3          1.0     1.0          3.0                     0.0    21.50  ...   \n",
       "4          1.0     1.0          3.0                     0.0    16.56  ...   \n",
       "\n",
       "       EmploymentStatus     Department         ManagerName ManagerID  \\\n",
       "0                Active  Admin Offices  Brandon R. LeBlanc       1.0   \n",
       "1                Active  Admin Offices  Brandon R. LeBlanc       1.0   \n",
       "2                Active  Admin Offices  Brandon R. LeBlanc       1.0   \n",
       "3  Terminated for Cause  Admin Offices  Brandon R. LeBlanc       1.0   \n",
       "4                Active  Admin Offices  Brandon R. LeBlanc       1.0   \n",
       "\n",
       "        RecruitmentSource PerformanceScore EngagementSurvey EmpSatisfaction  \\\n",
       "0      Diversity Job Fair      Fully Meets             2.04             2.0   \n",
       "1      Website Banner Ads      Fully Meets             5.00             4.0   \n",
       "2         Internet Search      Fully Meets             3.90             5.0   \n",
       "3  Pay Per Click - Google      Fully Meets             3.24             3.0   \n",
       "4      Website Banner Ads      Fully Meets             5.00             3.0   \n",
       "\n",
       "  SpecialProjectsCount  Seniority  \n",
       "0                  6.0  10.923288  \n",
       "1                  4.0   5.726027  \n",
       "2                  5.0   4.997260  \n",
       "3                  4.0   0.158904  \n",
       "4                  5.0   4.410959  \n",
       "\n",
       "[5 rows x 34 columns]"
      ],
      "text/html": [
       "<div>\n",
       "<style scoped>\n",
       "    .dataframe tbody tr th:only-of-type {\n",
       "        vertical-align: middle;\n",
       "    }\n",
       "\n",
       "    .dataframe tbody tr th {\n",
       "        vertical-align: top;\n",
       "    }\n",
       "\n",
       "    .dataframe thead th {\n",
       "        text-align: right;\n",
       "    }\n",
       "</style>\n",
       "<table border=\"1\" class=\"dataframe\">\n",
       "  <thead>\n",
       "    <tr style=\"text-align: right;\">\n",
       "      <th></th>\n",
       "      <th>Employee_Name</th>\n",
       "      <th>EmpID</th>\n",
       "      <th>MarriedID</th>\n",
       "      <th>MaritalStatusID</th>\n",
       "      <th>GenderID</th>\n",
       "      <th>EmpStatusID</th>\n",
       "      <th>DeptID</th>\n",
       "      <th>PerfScoreID</th>\n",
       "      <th>FromDiversityJobFairID</th>\n",
       "      <th>PayRate</th>\n",
       "      <th>...</th>\n",
       "      <th>EmploymentStatus</th>\n",
       "      <th>Department</th>\n",
       "      <th>ManagerName</th>\n",
       "      <th>ManagerID</th>\n",
       "      <th>RecruitmentSource</th>\n",
       "      <th>PerformanceScore</th>\n",
       "      <th>EngagementSurvey</th>\n",
       "      <th>EmpSatisfaction</th>\n",
       "      <th>SpecialProjectsCount</th>\n",
       "      <th>Seniority</th>\n",
       "    </tr>\n",
       "  </thead>\n",
       "  <tbody>\n",
       "    <tr>\n",
       "      <th>0</th>\n",
       "      <td>Brown, Mia</td>\n",
       "      <td>1.103024e+09</td>\n",
       "      <td>1.0</td>\n",
       "      <td>1.0</td>\n",
       "      <td>0.0</td>\n",
       "      <td>1.0</td>\n",
       "      <td>1.0</td>\n",
       "      <td>3.0</td>\n",
       "      <td>1.0</td>\n",
       "      <td>28.50</td>\n",
       "      <td>...</td>\n",
       "      <td>Active</td>\n",
       "      <td>Admin Offices</td>\n",
       "      <td>Brandon R. LeBlanc</td>\n",
       "      <td>1.0</td>\n",
       "      <td>Diversity Job Fair</td>\n",
       "      <td>Fully Meets</td>\n",
       "      <td>2.04</td>\n",
       "      <td>2.0</td>\n",
       "      <td>6.0</td>\n",
       "      <td>10.923288</td>\n",
       "    </tr>\n",
       "    <tr>\n",
       "      <th>1</th>\n",
       "      <td>LaRotonda, William</td>\n",
       "      <td>1.106027e+09</td>\n",
       "      <td>0.0</td>\n",
       "      <td>2.0</td>\n",
       "      <td>1.0</td>\n",
       "      <td>1.0</td>\n",
       "      <td>1.0</td>\n",
       "      <td>3.0</td>\n",
       "      <td>0.0</td>\n",
       "      <td>23.00</td>\n",
       "      <td>...</td>\n",
       "      <td>Active</td>\n",
       "      <td>Admin Offices</td>\n",
       "      <td>Brandon R. LeBlanc</td>\n",
       "      <td>1.0</td>\n",
       "      <td>Website Banner Ads</td>\n",
       "      <td>Fully Meets</td>\n",
       "      <td>5.00</td>\n",
       "      <td>4.0</td>\n",
       "      <td>4.0</td>\n",
       "      <td>5.726027</td>\n",
       "    </tr>\n",
       "    <tr>\n",
       "      <th>2</th>\n",
       "      <td>Steans, Tyrone</td>\n",
       "      <td>1.302053e+09</td>\n",
       "      <td>0.0</td>\n",
       "      <td>0.0</td>\n",
       "      <td>1.0</td>\n",
       "      <td>1.0</td>\n",
       "      <td>1.0</td>\n",
       "      <td>3.0</td>\n",
       "      <td>0.0</td>\n",
       "      <td>29.00</td>\n",
       "      <td>...</td>\n",
       "      <td>Active</td>\n",
       "      <td>Admin Offices</td>\n",
       "      <td>Brandon R. LeBlanc</td>\n",
       "      <td>1.0</td>\n",
       "      <td>Internet Search</td>\n",
       "      <td>Fully Meets</td>\n",
       "      <td>3.90</td>\n",
       "      <td>5.0</td>\n",
       "      <td>5.0</td>\n",
       "      <td>4.997260</td>\n",
       "    </tr>\n",
       "    <tr>\n",
       "      <th>3</th>\n",
       "      <td>Howard, Estelle</td>\n",
       "      <td>1.211051e+09</td>\n",
       "      <td>1.0</td>\n",
       "      <td>1.0</td>\n",
       "      <td>0.0</td>\n",
       "      <td>1.0</td>\n",
       "      <td>1.0</td>\n",
       "      <td>3.0</td>\n",
       "      <td>0.0</td>\n",
       "      <td>21.50</td>\n",
       "      <td>...</td>\n",
       "      <td>Terminated for Cause</td>\n",
       "      <td>Admin Offices</td>\n",
       "      <td>Brandon R. LeBlanc</td>\n",
       "      <td>1.0</td>\n",
       "      <td>Pay Per Click - Google</td>\n",
       "      <td>Fully Meets</td>\n",
       "      <td>3.24</td>\n",
       "      <td>3.0</td>\n",
       "      <td>4.0</td>\n",
       "      <td>0.158904</td>\n",
       "    </tr>\n",
       "    <tr>\n",
       "      <th>4</th>\n",
       "      <td>Singh, Nan</td>\n",
       "      <td>1.307060e+09</td>\n",
       "      <td>0.0</td>\n",
       "      <td>0.0</td>\n",
       "      <td>0.0</td>\n",
       "      <td>1.0</td>\n",
       "      <td>1.0</td>\n",
       "      <td>3.0</td>\n",
       "      <td>0.0</td>\n",
       "      <td>16.56</td>\n",
       "      <td>...</td>\n",
       "      <td>Active</td>\n",
       "      <td>Admin Offices</td>\n",
       "      <td>Brandon R. LeBlanc</td>\n",
       "      <td>1.0</td>\n",
       "      <td>Website Banner Ads</td>\n",
       "      <td>Fully Meets</td>\n",
       "      <td>5.00</td>\n",
       "      <td>3.0</td>\n",
       "      <td>5.0</td>\n",
       "      <td>4.410959</td>\n",
       "    </tr>\n",
       "  </tbody>\n",
       "</table>\n",
       "<p>5 rows × 34 columns</p>\n",
       "</div>"
      ]
     },
     "execution_count": 73,
     "metadata": {},
     "output_type": "execute_result"
    }
   ],
   "execution_count": 73
  },
  {
   "metadata": {},
   "cell_type": "markdown",
   "source": "1. Czy istnieje zależność pomiędzy tym, kto jest bezpośrednim przełożonym (ManagerName, ManagerID) danego pracownika, a oceną wydajności pracy (PerformanceScore)?\n",
   "id": "7e61658640272ce4"
  },
  {
   "metadata": {
    "ExecuteTime": {
     "end_time": "2025-03-19T19:32:34.107505Z",
     "start_time": "2025-03-19T19:32:34.095004Z"
    }
   },
   "cell_type": "code",
   "source": [
    "# zmienna 'PerformanceScore' jest zmienną kategoryczną dlatego najlepszym rozwiązaniem dla zbadania zależności będzie wykorzystanie testu chi-kwadrat\n",
    "df['PerformanceScore'].unique()"
   ],
   "id": "ddb7cc314c6ef17c",
   "outputs": [
    {
     "data": {
      "text/plain": [
       "array(['Fully Meets', 'PIP', 'Exceeds', 'Needs Improvement'], dtype=object)"
      ]
     },
     "execution_count": 74,
     "metadata": {},
     "output_type": "execute_result"
    }
   ],
   "execution_count": 74
  },
  {
   "metadata": {
    "ExecuteTime": {
     "end_time": "2025-03-19T19:32:34.170504Z",
     "start_time": "2025-03-19T19:32:34.157506Z"
    }
   },
   "cell_type": "code",
   "source": [
    "# tabela krzyżowa dla zmiennych 'ManagerID' i 'PerformanceScore'\n",
    "contingency_table = pd.crosstab(df[\"ManagerID\"], df[\"PerformanceScore\"])"
   ],
   "id": "965b8545cbc077b4",
   "outputs": [],
   "execution_count": 75
  },
  {
   "metadata": {
    "ExecuteTime": {
     "end_time": "2025-03-19T19:32:34.263020Z",
     "start_time": "2025-03-19T19:32:34.249020Z"
    }
   },
   "cell_type": "code",
   "source": [
    "# przeprowadzenie testu chi-kwadrat i obliczenie p-wartości\n",
    "chi2, p_value, dof, expected = chi2_contingency(contingency_table)"
   ],
   "id": "a1320264e8e33eed",
   "outputs": [],
   "execution_count": 76
  },
  {
   "metadata": {
    "ExecuteTime": {
     "end_time": "2025-03-19T19:32:34.309314Z",
     "start_time": "2025-03-19T19:32:34.291019Z"
    }
   },
   "cell_type": "code",
   "source": [
    "print(\"Wynik chi-kwadrat:\", chi2)\n",
    "print(\"Wartość p:\", p_value)"
   ],
   "id": "157541ed8b08cb2c",
   "outputs": [
    {
     "name": "stdout",
     "output_type": "stream",
     "text": [
      "Wynik chi-kwadrat: 67.79033848168551\n",
      "Wartość p: 0.41590537598488814\n"
     ]
    }
   ],
   "execution_count": 77
  },
  {
   "metadata": {},
   "cell_type": "markdown",
   "source": "WNIOSKI: Otrzymana p-wartość równa 0.41590537598488814 oznacza, że nie ma wystarczających dowodów na istnienie istotnej statystycznie zależności między `ManagerID` a `PerformanceScore`.",
   "id": "f172483dec5a93b0"
  },
  {
   "metadata": {},
   "cell_type": "markdown",
   "source": "2. Jakie źródła pozyskania pracownika (Recruitment Source) są najlepsze, jeśli zależy nam na jak najdłuższym stażu pracowników?\n",
   "id": "acd168b4da293891"
  },
  {
   "metadata": {
    "ExecuteTime": {
     "end_time": "2025-03-19T19:32:34.355314Z",
     "start_time": "2025-03-19T19:32:34.342319Z"
    }
   },
   "cell_type": "code",
   "source": [
    "# Obliczenie średniego stażu pracy dla każdego źródła rekrutacji\n",
    "avg_tenure_by_source = df.groupby(\"RecruitmentSource\")[\"Seniority\"].mean().sort_values(ascending=False).head(5)"
   ],
   "id": "35dca5af8f49035b",
   "outputs": [],
   "execution_count": 78
  },
  {
   "metadata": {
    "ExecuteTime": {
     "end_time": "2025-03-19T19:32:34.387317Z",
     "start_time": "2025-03-19T19:32:34.373314Z"
    }
   },
   "cell_type": "code",
   "source": [
    "print(\"TOP5 źródeł rekrutacji:\")\n",
    "print(avg_tenure_by_source)"
   ],
   "id": "d619ae791a7962f7",
   "outputs": [
    {
     "name": "stdout",
     "output_type": "stream",
     "text": [
      "TOP5 źródeł rekrutacji:\n",
      "RecruitmentSource\n",
      "Careerbuilder         8.487671\n",
      "Other                 6.457534\n",
      "Billboard             5.866781\n",
      "MBTA ads              5.733441\n",
      "Website Banner Ads    5.725395\n",
      "Name: Seniority, dtype: float64\n"
     ]
    }
   ],
   "execution_count": 79
  },
  {
   "metadata": {},
   "cell_type": "markdown",
   "source": "3. Czy stan cywilny (MartialDesc) pracownika koreluje w jakikolwiek sposób z zadowoleniem z pracy (EmpSatisfaction)?",
   "id": "b43fdd84fe2e67c2"
  },
  {
   "metadata": {
    "ExecuteTime": {
     "end_time": "2025-03-19T19:32:34.498630Z",
     "start_time": "2025-03-19T19:32:34.475626Z"
    }
   },
   "cell_type": "code",
   "source": [
    "contingency_table = pd.crosstab(df[\"MaritalDesc\"], df[\"EmpSatisfaction\"])\n",
    "chi2, p_value, dof, expected = chi2_contingency(contingency_table)"
   ],
   "id": "80d9207daa329ee9",
   "outputs": [],
   "execution_count": 80
  },
  {
   "metadata": {
    "ExecuteTime": {
     "end_time": "2025-03-19T19:32:34.529141Z",
     "start_time": "2025-03-19T19:32:34.519146Z"
    }
   },
   "cell_type": "code",
   "source": [
    "print(\"Wynik chi-kwadrat:\", chi2)\n",
    "print(\"Wartość p:\", p_value)"
   ],
   "id": "af8686f5188e07cd",
   "outputs": [
    {
     "name": "stdout",
     "output_type": "stream",
     "text": [
      "Wynik chi-kwadrat: 33.36128013737227\n",
      "Wartość p: 0.006616683516433504\n"
     ]
    }
   ],
   "execution_count": 81
  },
  {
   "metadata": {},
   "cell_type": "markdown",
   "source": "WNIOSKI: P-wartość wskazuje że istnieje statystycznie istotny związek między stanem cywilnym a zadowoleniem z pracy",
   "id": "489780ab664d90c"
  },
  {
   "metadata": {},
   "cell_type": "markdown",
   "source": "4. Jak wygląda struktura wieku aktualnie zatrudnionych pracowników?",
   "id": "de1ab326b3e25862"
  },
  {
   "metadata": {
    "ExecuteTime": {
     "end_time": "2025-03-19T19:32:34.638020Z",
     "start_time": "2025-03-19T19:32:34.623021Z"
    }
   },
   "cell_type": "code",
   "source": [
    "# funkcja zliczająca wiek pracownika\n",
    "def count_age(row):\n",
    "    return (dt.datetime(2019, 9, 27) - row['DOB']) / np.timedelta64(1, 'Y')"
   ],
   "id": "2f66ee1fbc01cd02",
   "outputs": [],
   "execution_count": 82
  },
  {
   "metadata": {
    "ExecuteTime": {
     "end_time": "2025-03-19T19:39:05.779845Z",
     "start_time": "2025-03-19T19:39:05.740842Z"
    }
   },
   "cell_type": "code",
   "source": [
    "# dodanie kolumny z wiekiem\n",
    "df['Age'] = df.apply(lambda row: count_age(row), axis=1)\n",
    "df"
   ],
   "id": "7b1b1145a57ee21b",
   "outputs": [
    {
     "data": {
      "text/plain": [
       "              Employee_Name         EmpID  MarriedID  MaritalStatusID  \\\n",
       "0                Brown, Mia  1.103024e+09        1.0              1.0   \n",
       "1      LaRotonda, William    1.106027e+09        0.0              2.0   \n",
       "2          Steans, Tyrone    1.302053e+09        0.0              0.0   \n",
       "3           Howard, Estelle  1.211051e+09        1.0              1.0   \n",
       "4               Singh, Nan   1.307060e+09        0.0              0.0   \n",
       "..                      ...           ...        ...              ...   \n",
       "305          Daniele, Ann    1.411071e+09        1.0              1.0   \n",
       "306          Lajiri,  Jyoti  1.108028e+09        1.0              1.0   \n",
       "307  Semizoglou, Jeremiah    9.040136e+08        1.0              1.0   \n",
       "308              South, Joe  1.308061e+09        0.0              0.0   \n",
       "309         Warfield, Sarah  1.301052e+09        0.0              4.0   \n",
       "\n",
       "     GenderID  EmpStatusID  DeptID  PerfScoreID  FromDiversityJobFairID  \\\n",
       "0         0.0          1.0     1.0          3.0                     1.0   \n",
       "1         1.0          1.0     1.0          3.0                     0.0   \n",
       "2         1.0          1.0     1.0          3.0                     0.0   \n",
       "3         0.0          1.0     1.0          3.0                     0.0   \n",
       "4         0.0          1.0     1.0          3.0                     0.0   \n",
       "..        ...          ...     ...          ...                     ...   \n",
       "305       0.0          3.0     3.0          3.0                     0.0   \n",
       "306       1.0          3.0     3.0          3.0                     0.0   \n",
       "307       1.0          2.0     3.0          3.0                     0.0   \n",
       "308       1.0          1.0     3.0          3.0                     0.0   \n",
       "309       0.0          1.0     3.0          3.0                     0.0   \n",
       "\n",
       "     PayRate  ...     Department         ManagerName ManagerID  \\\n",
       "0      28.50  ...  Admin Offices  Brandon R. LeBlanc       1.0   \n",
       "1      23.00  ...  Admin Offices  Brandon R. LeBlanc       1.0   \n",
       "2      29.00  ...  Admin Offices  Brandon R. LeBlanc       1.0   \n",
       "3      21.50  ...  Admin Offices  Brandon R. LeBlanc       1.0   \n",
       "4      16.56  ...  Admin Offices  Brandon R. LeBlanc       1.0   \n",
       "..       ...  ...            ...                 ...       ...   \n",
       "305    54.10  ...          IT/IS        Peter Monroe       7.0   \n",
       "306    56.20  ...          IT/IS        Peter Monroe       7.0   \n",
       "307    53.80  ...          IT/IS        Peter Monroe       7.0   \n",
       "308    53.00  ...          IT/IS        Peter Monroe       7.0   \n",
       "309    55.20  ...          IT/IS        Peter Monroe       7.0   \n",
       "\n",
       "          RecruitmentSource  PerformanceScore EngagementSurvey  \\\n",
       "0        Diversity Job Fair       Fully Meets             2.04   \n",
       "1        Website Banner Ads       Fully Meets             5.00   \n",
       "2           Internet Search       Fully Meets             3.90   \n",
       "3    Pay Per Click - Google       Fully Meets             3.24   \n",
       "4        Website Banner Ads       Fully Meets             5.00   \n",
       "..                      ...               ...              ...   \n",
       "305         Vendor Referral       Fully Meets             1.55   \n",
       "306       Employee Referral       Fully Meets             4.46   \n",
       "307    On-campus Recruiting       Fully Meets             3.27   \n",
       "308       Employee Referral       Fully Meets             5.00   \n",
       "309       Employee Referral       Fully Meets             1.06   \n",
       "\n",
       "    EmpSatisfaction SpecialProjectsCount  Seniority        Age  \n",
       "0               2.0                  6.0  10.923288  31.863014  \n",
       "1               4.0                  4.0   5.726027  35.443836  \n",
       "2               5.0                  5.0   4.997260  33.093151  \n",
       "3               3.0                  4.0   0.158904  34.052055  \n",
       "4               3.0                  5.0   4.410959  31.378082  \n",
       "..              ...                  ...        ...        ...  \n",
       "305             5.0                  8.0   4.882192 -32.331507  \n",
       "306             5.0                  6.0   4.882192  33.452055  \n",
       "307             4.0                  5.0   3.243836  36.654795  \n",
       "308             3.0                  4.0   4.882192 -45.983562  \n",
       "309             4.0                  8.0   4.498630  41.432877  \n",
       "\n",
       "[310 rows x 35 columns]"
      ],
      "text/html": [
       "<div>\n",
       "<style scoped>\n",
       "    .dataframe tbody tr th:only-of-type {\n",
       "        vertical-align: middle;\n",
       "    }\n",
       "\n",
       "    .dataframe tbody tr th {\n",
       "        vertical-align: top;\n",
       "    }\n",
       "\n",
       "    .dataframe thead th {\n",
       "        text-align: right;\n",
       "    }\n",
       "</style>\n",
       "<table border=\"1\" class=\"dataframe\">\n",
       "  <thead>\n",
       "    <tr style=\"text-align: right;\">\n",
       "      <th></th>\n",
       "      <th>Employee_Name</th>\n",
       "      <th>EmpID</th>\n",
       "      <th>MarriedID</th>\n",
       "      <th>MaritalStatusID</th>\n",
       "      <th>GenderID</th>\n",
       "      <th>EmpStatusID</th>\n",
       "      <th>DeptID</th>\n",
       "      <th>PerfScoreID</th>\n",
       "      <th>FromDiversityJobFairID</th>\n",
       "      <th>PayRate</th>\n",
       "      <th>...</th>\n",
       "      <th>Department</th>\n",
       "      <th>ManagerName</th>\n",
       "      <th>ManagerID</th>\n",
       "      <th>RecruitmentSource</th>\n",
       "      <th>PerformanceScore</th>\n",
       "      <th>EngagementSurvey</th>\n",
       "      <th>EmpSatisfaction</th>\n",
       "      <th>SpecialProjectsCount</th>\n",
       "      <th>Seniority</th>\n",
       "      <th>Age</th>\n",
       "    </tr>\n",
       "  </thead>\n",
       "  <tbody>\n",
       "    <tr>\n",
       "      <th>0</th>\n",
       "      <td>Brown, Mia</td>\n",
       "      <td>1.103024e+09</td>\n",
       "      <td>1.0</td>\n",
       "      <td>1.0</td>\n",
       "      <td>0.0</td>\n",
       "      <td>1.0</td>\n",
       "      <td>1.0</td>\n",
       "      <td>3.0</td>\n",
       "      <td>1.0</td>\n",
       "      <td>28.50</td>\n",
       "      <td>...</td>\n",
       "      <td>Admin Offices</td>\n",
       "      <td>Brandon R. LeBlanc</td>\n",
       "      <td>1.0</td>\n",
       "      <td>Diversity Job Fair</td>\n",
       "      <td>Fully Meets</td>\n",
       "      <td>2.04</td>\n",
       "      <td>2.0</td>\n",
       "      <td>6.0</td>\n",
       "      <td>10.923288</td>\n",
       "      <td>31.863014</td>\n",
       "    </tr>\n",
       "    <tr>\n",
       "      <th>1</th>\n",
       "      <td>LaRotonda, William</td>\n",
       "      <td>1.106027e+09</td>\n",
       "      <td>0.0</td>\n",
       "      <td>2.0</td>\n",
       "      <td>1.0</td>\n",
       "      <td>1.0</td>\n",
       "      <td>1.0</td>\n",
       "      <td>3.0</td>\n",
       "      <td>0.0</td>\n",
       "      <td>23.00</td>\n",
       "      <td>...</td>\n",
       "      <td>Admin Offices</td>\n",
       "      <td>Brandon R. LeBlanc</td>\n",
       "      <td>1.0</td>\n",
       "      <td>Website Banner Ads</td>\n",
       "      <td>Fully Meets</td>\n",
       "      <td>5.00</td>\n",
       "      <td>4.0</td>\n",
       "      <td>4.0</td>\n",
       "      <td>5.726027</td>\n",
       "      <td>35.443836</td>\n",
       "    </tr>\n",
       "    <tr>\n",
       "      <th>2</th>\n",
       "      <td>Steans, Tyrone</td>\n",
       "      <td>1.302053e+09</td>\n",
       "      <td>0.0</td>\n",
       "      <td>0.0</td>\n",
       "      <td>1.0</td>\n",
       "      <td>1.0</td>\n",
       "      <td>1.0</td>\n",
       "      <td>3.0</td>\n",
       "      <td>0.0</td>\n",
       "      <td>29.00</td>\n",
       "      <td>...</td>\n",
       "      <td>Admin Offices</td>\n",
       "      <td>Brandon R. LeBlanc</td>\n",
       "      <td>1.0</td>\n",
       "      <td>Internet Search</td>\n",
       "      <td>Fully Meets</td>\n",
       "      <td>3.90</td>\n",
       "      <td>5.0</td>\n",
       "      <td>5.0</td>\n",
       "      <td>4.997260</td>\n",
       "      <td>33.093151</td>\n",
       "    </tr>\n",
       "    <tr>\n",
       "      <th>3</th>\n",
       "      <td>Howard, Estelle</td>\n",
       "      <td>1.211051e+09</td>\n",
       "      <td>1.0</td>\n",
       "      <td>1.0</td>\n",
       "      <td>0.0</td>\n",
       "      <td>1.0</td>\n",
       "      <td>1.0</td>\n",
       "      <td>3.0</td>\n",
       "      <td>0.0</td>\n",
       "      <td>21.50</td>\n",
       "      <td>...</td>\n",
       "      <td>Admin Offices</td>\n",
       "      <td>Brandon R. LeBlanc</td>\n",
       "      <td>1.0</td>\n",
       "      <td>Pay Per Click - Google</td>\n",
       "      <td>Fully Meets</td>\n",
       "      <td>3.24</td>\n",
       "      <td>3.0</td>\n",
       "      <td>4.0</td>\n",
       "      <td>0.158904</td>\n",
       "      <td>34.052055</td>\n",
       "    </tr>\n",
       "    <tr>\n",
       "      <th>4</th>\n",
       "      <td>Singh, Nan</td>\n",
       "      <td>1.307060e+09</td>\n",
       "      <td>0.0</td>\n",
       "      <td>0.0</td>\n",
       "      <td>0.0</td>\n",
       "      <td>1.0</td>\n",
       "      <td>1.0</td>\n",
       "      <td>3.0</td>\n",
       "      <td>0.0</td>\n",
       "      <td>16.56</td>\n",
       "      <td>...</td>\n",
       "      <td>Admin Offices</td>\n",
       "      <td>Brandon R. LeBlanc</td>\n",
       "      <td>1.0</td>\n",
       "      <td>Website Banner Ads</td>\n",
       "      <td>Fully Meets</td>\n",
       "      <td>5.00</td>\n",
       "      <td>3.0</td>\n",
       "      <td>5.0</td>\n",
       "      <td>4.410959</td>\n",
       "      <td>31.378082</td>\n",
       "    </tr>\n",
       "    <tr>\n",
       "      <th>...</th>\n",
       "      <td>...</td>\n",
       "      <td>...</td>\n",
       "      <td>...</td>\n",
       "      <td>...</td>\n",
       "      <td>...</td>\n",
       "      <td>...</td>\n",
       "      <td>...</td>\n",
       "      <td>...</td>\n",
       "      <td>...</td>\n",
       "      <td>...</td>\n",
       "      <td>...</td>\n",
       "      <td>...</td>\n",
       "      <td>...</td>\n",
       "      <td>...</td>\n",
       "      <td>...</td>\n",
       "      <td>...</td>\n",
       "      <td>...</td>\n",
       "      <td>...</td>\n",
       "      <td>...</td>\n",
       "      <td>...</td>\n",
       "      <td>...</td>\n",
       "    </tr>\n",
       "    <tr>\n",
       "      <th>305</th>\n",
       "      <td>Daniele, Ann</td>\n",
       "      <td>1.411071e+09</td>\n",
       "      <td>1.0</td>\n",
       "      <td>1.0</td>\n",
       "      <td>0.0</td>\n",
       "      <td>3.0</td>\n",
       "      <td>3.0</td>\n",
       "      <td>3.0</td>\n",
       "      <td>0.0</td>\n",
       "      <td>54.10</td>\n",
       "      <td>...</td>\n",
       "      <td>IT/IS</td>\n",
       "      <td>Peter Monroe</td>\n",
       "      <td>7.0</td>\n",
       "      <td>Vendor Referral</td>\n",
       "      <td>Fully Meets</td>\n",
       "      <td>1.55</td>\n",
       "      <td>5.0</td>\n",
       "      <td>8.0</td>\n",
       "      <td>4.882192</td>\n",
       "      <td>-32.331507</td>\n",
       "    </tr>\n",
       "    <tr>\n",
       "      <th>306</th>\n",
       "      <td>Lajiri,  Jyoti</td>\n",
       "      <td>1.108028e+09</td>\n",
       "      <td>1.0</td>\n",
       "      <td>1.0</td>\n",
       "      <td>1.0</td>\n",
       "      <td>3.0</td>\n",
       "      <td>3.0</td>\n",
       "      <td>3.0</td>\n",
       "      <td>0.0</td>\n",
       "      <td>56.20</td>\n",
       "      <td>...</td>\n",
       "      <td>IT/IS</td>\n",
       "      <td>Peter Monroe</td>\n",
       "      <td>7.0</td>\n",
       "      <td>Employee Referral</td>\n",
       "      <td>Fully Meets</td>\n",
       "      <td>4.46</td>\n",
       "      <td>5.0</td>\n",
       "      <td>6.0</td>\n",
       "      <td>4.882192</td>\n",
       "      <td>33.452055</td>\n",
       "    </tr>\n",
       "    <tr>\n",
       "      <th>307</th>\n",
       "      <td>Semizoglou, Jeremiah</td>\n",
       "      <td>9.040136e+08</td>\n",
       "      <td>1.0</td>\n",
       "      <td>1.0</td>\n",
       "      <td>1.0</td>\n",
       "      <td>2.0</td>\n",
       "      <td>3.0</td>\n",
       "      <td>3.0</td>\n",
       "      <td>0.0</td>\n",
       "      <td>53.80</td>\n",
       "      <td>...</td>\n",
       "      <td>IT/IS</td>\n",
       "      <td>Peter Monroe</td>\n",
       "      <td>7.0</td>\n",
       "      <td>On-campus Recruiting</td>\n",
       "      <td>Fully Meets</td>\n",
       "      <td>3.27</td>\n",
       "      <td>4.0</td>\n",
       "      <td>5.0</td>\n",
       "      <td>3.243836</td>\n",
       "      <td>36.654795</td>\n",
       "    </tr>\n",
       "    <tr>\n",
       "      <th>308</th>\n",
       "      <td>South, Joe</td>\n",
       "      <td>1.308061e+09</td>\n",
       "      <td>0.0</td>\n",
       "      <td>0.0</td>\n",
       "      <td>1.0</td>\n",
       "      <td>1.0</td>\n",
       "      <td>3.0</td>\n",
       "      <td>3.0</td>\n",
       "      <td>0.0</td>\n",
       "      <td>53.00</td>\n",
       "      <td>...</td>\n",
       "      <td>IT/IS</td>\n",
       "      <td>Peter Monroe</td>\n",
       "      <td>7.0</td>\n",
       "      <td>Employee Referral</td>\n",
       "      <td>Fully Meets</td>\n",
       "      <td>5.00</td>\n",
       "      <td>3.0</td>\n",
       "      <td>4.0</td>\n",
       "      <td>4.882192</td>\n",
       "      <td>-45.983562</td>\n",
       "    </tr>\n",
       "    <tr>\n",
       "      <th>309</th>\n",
       "      <td>Warfield, Sarah</td>\n",
       "      <td>1.301052e+09</td>\n",
       "      <td>0.0</td>\n",
       "      <td>4.0</td>\n",
       "      <td>0.0</td>\n",
       "      <td>1.0</td>\n",
       "      <td>3.0</td>\n",
       "      <td>3.0</td>\n",
       "      <td>0.0</td>\n",
       "      <td>55.20</td>\n",
       "      <td>...</td>\n",
       "      <td>IT/IS</td>\n",
       "      <td>Peter Monroe</td>\n",
       "      <td>7.0</td>\n",
       "      <td>Employee Referral</td>\n",
       "      <td>Fully Meets</td>\n",
       "      <td>1.06</td>\n",
       "      <td>4.0</td>\n",
       "      <td>8.0</td>\n",
       "      <td>4.498630</td>\n",
       "      <td>41.432877</td>\n",
       "    </tr>\n",
       "  </tbody>\n",
       "</table>\n",
       "<p>310 rows × 35 columns</p>\n",
       "</div>"
      ]
     },
     "execution_count": 86,
     "metadata": {},
     "output_type": "execute_result"
    }
   ],
   "execution_count": 86
  },
  {
   "metadata": {
    "ExecuteTime": {
     "end_time": "2025-03-19T19:44:59.833670Z",
     "start_time": "2025-03-19T19:44:59.818671Z"
    }
   },
   "cell_type": "code",
   "source": [
    "# Filtrowanie obecnie zatrudnionych pracowników i błędów w dacie urodzenia\n",
    "df_clean_age = df[df[\"Age\"] > 0]\n",
    "currently_employed = df_clean_age[df_clean_age[\"DateofTermination\"].isna()]"
   ],
   "id": "44753ace5cef95df",
   "outputs": [],
   "execution_count": 87
  },
  {
   "metadata": {
    "ExecuteTime": {
     "end_time": "2025-03-19T19:45:00.969744Z",
     "start_time": "2025-03-19T19:45:00.770717Z"
    }
   },
   "cell_type": "code",
   "source": [
    "# Tworzenie histogramu wieku\n",
    "plt.figure(figsize=(10, 6))\n",
    "plt.hist(currently_employed[\"Age\"], bins=10, color=\"skyblue\", edgecolor=\"black\")\n",
    "plt.title(\"Struktura wieku aktualnie zatrudnionych pracowników\")\n",
    "plt.xlabel(\"Wiek\")\n",
    "plt.ylabel(\"Liczba pracowników\")\n",
    "plt.grid(axis='y', linestyle='--', alpha=0.7)\n",
    "plt.show()"
   ],
   "id": "fe97e54bfa61a8f7",
   "outputs": [
    {
     "data": {
      "text/plain": [
       "<Figure size 1000x600 with 1 Axes>"
      ],
      "image/png": "[encoded data removed]"
     },
     "metadata": {},
     "output_type": "display_data"
    }
   ],
   "execution_count": 88
  },
  {
   "metadata": {},
   "cell_type": "markdown",
   "source": "5. Czy starsi pracownicy pracują nad większą liczbą specjalnych projektów niż młodsi pracownicy?",
   "id": "738a8a3a4dd15eab"
  },
  {
   "metadata": {
    "ExecuteTime": {
     "end_time": "2025-03-19T19:47:26.029598Z",
     "start_time": "2025-03-19T19:47:26.013089Z"
    }
   },
   "cell_type": "code",
   "source": [
    "# Grupowanie według przedziałów wiekowych\n",
    "bins = [20, 30, 40, 50, 60, 70]  # Przedziały wiekowe\n",
    "labels = [\"20-29\", \"30-39\", \"40-49\", \"50-59\", \"60-69\"]\n",
    "df[\"AgeGroup\"] = pd.cut(df[\"Age\"], bins=bins, labels=labels, right=False)"
   ],
   "id": "ddef8d6d7ca9f53b",
   "outputs": [],
   "execution_count": 89
  },
  {
   "metadata": {
    "ExecuteTime": {
     "end_time": "2025-03-19T20:00:41.350662Z",
     "start_time": "2025-03-19T20:00:41.340159Z"
    }
   },
   "cell_type": "code",
   "source": [
    "# Obliczenie średniej liczby projektów dla każdej grupy wiekowej\n",
    "projects_by_age = df.groupby(\"AgeGroup\")[\"SpecialProjectsCount\"].mean().reset_index()"
   ],
   "id": "7e1805e295560b7d",
   "outputs": [],
   "execution_count": 96
  },
  {
   "metadata": {
    "ExecuteTime": {
     "end_time": "2025-03-19T19:51:57.341929Z",
     "start_time": "2025-03-19T19:51:56.799532Z"
    }
   },
   "cell_type": "code",
   "source": [
    "# wykres kolumnowy\n",
    "plt.figure(figsize=(10, 6))\n",
    "sns.barplot(x=\"AgeGroup\", y=\"SpecialProjectsCount\", data=projects_by_age, hue=\"AgeGroup\", legend=False,\n",
    "            edgecolor=\"black\")\n",
    "plt.title(\"Średnia liczba specjalnych projektów według grupy wiekowej\")\n",
    "plt.xlabel(\"Grupa wiekowa\")\n",
    "plt.ylabel(\"Średnia liczba specjalnych projektów\")\n",
    "plt.grid(axis=\"y\", linestyle=\"--\", alpha=0.7)\n",
    "plt.show()"
   ],
   "id": "133292cf7f3fd6bf",
   "outputs": [
    {
     "data": {
      "text/plain": [
       "<Figure size 1000x600 with 1 Axes>"
      ],
      "image/png": "[encoded data removed]"
     },
     "metadata": {},
     "output_type": "display_data"
    }
   ],
   "execution_count": 94
  },
  {
   "metadata": {},
   "cell_type": "markdown",
   "source": "WNIOSKI: Nad projektami specjalnymi pracują głównie pracownicy z grupy wiekowej 30-39 lat.",
   "id": "8b4a842a5468a24b"
  }
 ],
 "metadata": {
  "kernelspec": {
   "display_name": "Python 3",
   "language": "python",
   "name": "python3"
  },
  "language_info": {
   "codemirror_mode": {
    "name": "ipython",
    "version": 2
   },
   "file_extension": ".py",
   "mimetype": "text/x-python",
   "name": "python",
   "nbconvert_exporter": "python",
   "pygments_lexer": "ipython2",
   "version": "2.7.6"
  }
 },
 "nbformat": 4,
 "nbformat_minor": 5
}
